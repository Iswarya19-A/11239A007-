{
  "nbformat": 4,
  "nbformat_minor": 0,
  "metadata": {
    "colab": {
      "provenance": [],
      "authorship_tag": "ABX9TyOgWMsvxFPav0hYWn4/+q4s",
      "include_colab_link": true
    },
    "kernelspec": {
      "name": "python3",
      "display_name": "Python 3"
    },
    "language_info": {
      "name": "python"
    }
  },
  "cells": [
    {
      "cell_type": "markdown",
      "metadata": {
        "id": "view-in-github",
        "colab_type": "text"
      },
      "source": [
        "<a href=\"https://colab.research.google.com/github/Iswarya19-A/11239A007-/blob/main/EXP_5C.ipynb\" target=\"_parent\"><img src=\"https://colab.research.google.com/assets/colab-badge.svg\" alt=\"Open In Colab\"/></a>"
      ]
    },
    {
      "cell_type": "code",
      "execution_count": 1,
      "metadata": {
        "colab": {
          "base_uri": "https://localhost:8080/"
        },
        "id": "wR7VIoI1r1th",
        "outputId": "527492b8-418c-44d7-d528-460b44d58910"
      },
      "outputs": [
        {
          "output_type": "stream",
          "name": "stdout",
          "text": [
            "Key Matrix:\n",
            " [[ 6 24  1]\n",
            " [13 16 10]\n",
            " [20 17 15]]\n",
            "\n",
            "Inverse Key Matrix:\n",
            " [[22 19 13]\n",
            " [ 0 22  3]\n",
            " [ 6  5 12]]\n",
            "\n",
            "Enter plain text (A–Z only): ACT\n",
            "\n",
            "Plaintext (after padding): ACT\n",
            "\n",
            "Encrypted Cipher Text: POH\n",
            "\n",
            "Decrypted Plain Text: LRK\n"
          ]
        }
      ],
      "source": [
        "import numpy as np\n",
        "\n",
        "def hill_encrypt(plain_block, key_matrix):\n",
        "    \"\"\"Encrypt a block of 3 letters using the Hill cipher key matrix.\"\"\"\n",
        "    vec = np.array([ord(ch) - 65 for ch in plain_block])\n",
        "    result = np.dot(key_matrix, vec) % 26\n",
        "    return ''.join(chr(num + 65) for num in result)\n",
        "\n",
        "\n",
        "def hill_decrypt(cipher_block, inv_key_matrix):\n",
        "    \"\"\"Decrypt a block of 3 letters using the inverse Hill cipher key matrix.\"\"\"\n",
        "    vec = np.array([ord(ch) - 65 for ch in cipher_block])\n",
        "    result = np.dot(inv_key_matrix, vec) % 26\n",
        "    return ''.join(chr(num + 65) for num in result)\n",
        "\n",
        "\n",
        "def mod_inverse_matrix(matrix, modulus=26):\n",
        "    \"\"\"Compute the modular inverse of a 3x3 matrix under mod 26.\"\"\"\n",
        "    det = int(round(np.linalg.det(matrix))) % modulus\n",
        "    det_inv = pow(det, -1, modulus)  # modular multiplicative inverse\n",
        "    matrix_adj = np.round(det * np.linalg.inv(matrix)).astype(int) % modulus\n",
        "    return (det_inv * matrix_adj) % modulus\n",
        "\n",
        "\n",
        "def main():\n",
        "    # Key matrix (invertible mod 26)\n",
        "    key_matrix = np.array([[6, 24, 1],\n",
        "                           [13, 16, 10],\n",
        "                           [20, 17, 15]], dtype=int)\n",
        "\n",
        "    print(\"Key Matrix:\\n\", key_matrix)\n",
        "\n",
        "    # Compute inverse key matrix (for decryption)\n",
        "    inv_key_matrix = mod_inverse_matrix(key_matrix)\n",
        "    print(\"\\nInverse Key Matrix:\\n\", inv_key_matrix)\n",
        "\n",
        "    # Get input and prepare plaintext\n",
        "    msg = input(\"\\nEnter plain text (A–Z only): \").upper().replace(\" \", \"\")\n",
        "    while len(msg) % 3 != 0:\n",
        "        msg += 'X'  # pad with X\n",
        "\n",
        "    print(\"\\nPlaintext (after padding):\", msg)\n",
        "\n",
        "    # Encrypt in blocks of 3\n",
        "    cipher_text = ''\n",
        "    for i in range(0, len(msg), 3):\n",
        "        cipher_text += hill_encrypt(msg[i:i+3], key_matrix)\n",
        "\n",
        "    print(\"\\nEncrypted Cipher Text:\", cipher_text)\n",
        "\n",
        "    # Decrypt in blocks of 3\n",
        "    decrypted_text = ''\n",
        "    for i in range(0, len(cipher_text), 3):\n",
        "        decrypted_text += hill_decrypt(cipher_text[i:i+3], inv_key_matrix)\n",
        "\n",
        "    print(\"\\nDecrypted Plain Text:\", decrypted_text)\n",
        "\n",
        "\n",
        "if __name__ == \"__main__\":\n",
        "    main()\n"
      ]
    }
  ]
}