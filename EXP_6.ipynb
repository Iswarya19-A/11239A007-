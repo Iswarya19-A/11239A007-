{
  "nbformat": 4,
  "nbformat_minor": 0,
  "metadata": {
    "colab": {
      "provenance": [],
      "authorship_tag": "ABX9TyOUbO1IGE7GETsmVpe/ejr1",
      "include_colab_link": true
    },
    "kernelspec": {
      "name": "python3",
      "display_name": "Python 3"
    },
    "language_info": {
      "name": "python"
    }
  },
  "cells": [
    {
      "cell_type": "markdown",
      "metadata": {
        "id": "view-in-github",
        "colab_type": "text"
      },
      "source": [
        "<a href=\"https://colab.research.google.com/github/Iswarya19-A/11239A007-/blob/main/EXP_6.ipynb\" target=\"_parent\"><img src=\"https://colab.research.google.com/assets/colab-badge.svg\" alt=\"Open In Colab\"/></a>"
      ]
    },
    {
      "cell_type": "code",
      "execution_count": 3,
      "metadata": {
        "colab": {
          "base_uri": "https://localhost:8080/"
        },
        "id": "nOO4eVgutg24",
        "outputId": "6d1e9aa9-a946-4100-8b11-3e7ed73c33d6"
      },
      "outputs": [
        {
          "output_type": "stream",
          "name": "stdout",
          "text": [
            "\n",
            "DES Symmetric key (hex): f32bcd5764eedfd7\n",
            "Enter message to encrypt: HI HOW ARE YOU\n",
            "\n",
            "Encrypted message (hex): 729bf5443d975f962f06be48a02958b6515654e8d18182e7\n",
            "\n",
            "Decrypted message: HI HOW ARE YOU\n"
          ]
        }
      ],
      "source": [
        "from Crypto.Cipher import DES\n",
        "from Crypto.Util.Padding import pad, unpad\n",
        "from Crypto.Random import get_random_bytes\n",
        "import binascii\n",
        "\n",
        "class DESExample:\n",
        "    def __init__(self):\n",
        "        # Generate a random 8-byte symmetric key\n",
        "        self.raw_key = self.generate_symmetric_key()\n",
        "\n",
        "        # Get input from the user\n",
        "        self.input_message = input(\"Enter message to encrypt: \")\n",
        "\n",
        "        # Encrypt the message\n",
        "        encrypted_data = self.encrypt(self.raw_key, self.input_message.encode())\n",
        "        print(\"\\nEncrypted message (hex):\", binascii.hexlify(encrypted_data).decode())\n",
        "\n",
        "        # Decrypt the message\n",
        "        decrypted_message = self.decrypt(self.raw_key, encrypted_data)\n",
        "        print(\"\\nDecrypted message:\", decrypted_message.decode())\n",
        "\n",
        "    def generate_symmetric_key(self):\n",
        "        # DES requires a key that is exactly 8 bytes long\n",
        "        key = get_random_bytes(8)\n",
        "        print(\"\\nDES Symmetric key (hex):\", binascii.hexlify(key).decode())\n",
        "        return key\n",
        "\n",
        "    def encrypt(self, key, clear):\n",
        "        # Create DES cipher object in CBC mode\n",
        "        cipher = DES.new(key, DES.MODE_CBC)\n",
        "\n",
        "        # Pad plaintext to match block size\n",
        "        padded_clear = pad(clear, DES.block_size)\n",
        "\n",
        "        # Prepend IV to ciphertext\n",
        "        iv = cipher.iv\n",
        "        encrypted = iv + cipher.encrypt(padded_clear)\n",
        "        return encrypted\n",
        "\n",
        "    def decrypt(self, key, encrypted):\n",
        "        # Extract the IV from the beginning of the ciphertext\n",
        "        iv = encrypted[:DES.block_size]\n",
        "        ciphertext = encrypted[DES.block_size:]\n",
        "\n",
        "        # Recreate cipher with the same IV for decryption\n",
        "        cipher = DES.new(key, DES.MODE_CBC, iv)\n",
        "\n",
        "        # Decrypt and unpad\n",
        "        decrypted_padded_clear = cipher.decrypt(ciphertext)\n",
        "        return unpad(decrypted_padded_clear, DES.block_size)\n",
        "\n",
        "\n",
        "if __name__ == \"__main__\":\n",
        "    DESExample()\n",
        "\n"
      ]
    }
  ]
}