{
  "nbformat": 4,
  "nbformat_minor": 0,
  "metadata": {
    "colab": {
      "provenance": [],
      "authorship_tag": "ABX9TyOoW6dVR8bWIPEeeu6WDCZt",
      "include_colab_link": true
    },
    "kernelspec": {
      "name": "python3",
      "display_name": "Python 3"
    },
    "language_info": {
      "name": "python"
    }
  },
  "cells": [
    {
      "cell_type": "markdown",
      "metadata": {
        "id": "view-in-github",
        "colab_type": "text"
      },
      "source": [
        "<a href=\"https://colab.research.google.com/github/Iswarya19-A/11239A007-/blob/main/EXP_5E.ipynb\" target=\"_parent\"><img src=\"https://colab.research.google.com/assets/colab-badge.svg\" alt=\"Open In Colab\"/></a>"
      ]
    },
    {
      "cell_type": "code",
      "execution_count": 1,
      "metadata": {
        "colab": {
          "base_uri": "https://localhost:8080/"
        },
        "id": "n2euO6JItFlJ",
        "outputId": "512ada5c-8185-4a36-8881-3e7e2c84a2a7"
      },
      "outputs": [
        {
          "name": "stdout",
          "output_type": "stream",
          "text": [
            "\n",
            "\t\t RAIL FENCE TECHNIQUE\n",
            "\n",
            "Enter the input string: HELLOWORLD\n",
            "\n",
            "Cipher text after applying rail fence:\n",
            "HLOOLELWRD\n",
            "\n",
            "Text after decryption:\n",
            "HELLOWORLD\n",
            "\n",
            "Press Enter to continue...\n"
          ]
        }
      ],
      "source": [
        "def main():\n",
        "    print(\"\\n\\t\\t RAIL FENCE TECHNIQUE\")\n",
        "\n",
        "    # Take input string\n",
        "    text = input(\"\\nEnter the input string: \")\n",
        "    length = len(text)\n",
        "\n",
        "    # ---------------- ENCRYPTION ----------------\n",
        "    cipher = ''.join([text[i] for i in range(length) if i % 2 == 0])\n",
        "    cipher += ''.join([text[i] for i in range(length) if i % 2 == 1])\n",
        "\n",
        "    print(\"\\nCipher text after applying rail fence:\")\n",
        "    print(cipher)\n",
        "\n",
        "    # ---------------- DECRYPTION ----------------\n",
        "    # Determine split point\n",
        "    k = length // 2 if length % 2 == 0 else (length // 2) + 1\n",
        "\n",
        "    # Create list for decrypted text\n",
        "    decrypted = [''] * length\n",
        "\n",
        "    # Fill even indices\n",
        "    for i in range(k):\n",
        "        decrypted[i * 2] = cipher[i]\n",
        "\n",
        "    # Fill odd indices\n",
        "    for i in range(k, length):\n",
        "        decrypted[(i - k) * 2 + 1] = cipher[i]\n",
        "\n",
        "    decrypted_text = ''.join(decrypted)\n",
        "\n",
        "    print(\"\\nText after decryption:\")\n",
        "    print(decrypted_text)\n",
        "\n",
        "    input(\"\\nPress Enter to continue...\")\n",
        "\n",
        "\n",
        "if __name__ == \"__main__\":\n",
        "    main()\n"
      ]
    }
  ]
}