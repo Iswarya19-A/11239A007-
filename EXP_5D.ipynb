{
  "nbformat": 4,
  "nbformat_minor": 0,
  "metadata": {
    "colab": {
      "provenance": [],
      "authorship_tag": "ABX9TyMtiOTmANwxUTJAwqh+twhh",
      "include_colab_link": true
    },
    "kernelspec": {
      "name": "python3",
      "display_name": "Python 3"
    },
    "language_info": {
      "name": "python"
    }
  },
  "cells": [
    {
      "cell_type": "markdown",
      "metadata": {
        "id": "view-in-github",
        "colab_type": "text"
      },
      "source": [
        "<a href=\"https://colab.research.google.com/github/Iswarya19-A/11239A007-/blob/main/EXP_5D.ipynb\" target=\"_parent\"><img src=\"https://colab.research.google.com/assets/colab-badge.svg\" alt=\"Open In Colab\"/></a>"
      ]
    },
    {
      "cell_type": "code",
      "execution_count": 1,
      "metadata": {
        "colab": {
          "base_uri": "https://localhost:8080/"
        },
        "id": "J8DsUQWlsWsR",
        "outputId": "185fd860-9c83-43ff-b8c6-d166914460c9"
      },
      "outputs": [
        {
          "name": "stdout",
          "output_type": "stream",
          "text": [
            "\n",
            "1. Encrypt Text\n",
            "2. Decrypt Text\n",
            "3. Exit\n",
            "\n",
            "Enter Your Choice: 1\n",
            "\n",
            "Enter Plain Text: ATTACK AT DAWN\n",
            "Enter Key Value: CAT\n",
            "\n",
            "Resultant Cipher Text: CTMCCD CT WCWG\n",
            "\n",
            "1. Encrypt Text\n",
            "2. Decrypt Text\n",
            "3. Exit\n",
            "\n",
            "Enter Your Choice: 2\n",
            "\n",
            "Enter Cipher Text: DSGFG HGRYE HDFG\n",
            "Enter Key Value: CAT SAYS MEOW\n",
            "\n",
            "Decrypted Plain Text: BSNMO HIZFS DPJE\n",
            "\n",
            "1. Encrypt Text\n",
            "2. Decrypt Text\n",
            "3. Exit\n",
            "\n",
            "Enter Your Choice: 3\n"
          ]
        }
      ],
      "source": [
        "import string\n",
        "\n",
        "def encipher():\n",
        "    input_text = input(\"\\nEnter Plain Text: \")\n",
        "    key = input(\"Enter Key Value: \")\n",
        "\n",
        "    cipher_text = \"\"\n",
        "    j = 0\n",
        "    for i in range(len(input_text)):\n",
        "        ch = input_text[i]\n",
        "        if ch.upper() in string.ascii_uppercase:\n",
        "            # Encrypt only letters\n",
        "            cipher_char = chr(65 + ((ord(ch.upper()) - 65 + ord(key[j % len(key)].upper()) - 65) % 26))\n",
        "            cipher_text += cipher_char\n",
        "            j += 1\n",
        "        else:\n",
        "            cipher_text += ch  # Keep non-letters unchanged\n",
        "\n",
        "    print(\"\\nResultant Cipher Text:\", cipher_text)\n",
        "\n",
        "\n",
        "def decipher():\n",
        "    input_text = input(\"\\nEnter Cipher Text: \")\n",
        "    key = input(\"Enter Key Value: \")\n",
        "\n",
        "    plain_text = \"\"\n",
        "    j = 0\n",
        "    for i in range(len(input_text)):\n",
        "        ch = input_text[i]\n",
        "        if ch.upper() in string.ascii_uppercase:\n",
        "            # Decrypt only letters\n",
        "            plain_char = chr(65 + ((ord(ch.upper()) - 65 - (ord(key[j % len(key)].upper()) - 65)) % 26))\n",
        "            plain_text += plain_char\n",
        "            j += 1\n",
        "        else:\n",
        "            plain_text += ch  # Keep non-letters unchanged\n",
        "\n",
        "    print(\"\\nDecrypted Plain Text:\", plain_text)\n",
        "\n",
        "\n",
        "def main():\n",
        "    while True:\n",
        "        print(\"\\n1. Encrypt Text\")\n",
        "        print(\"2. Decrypt Text\")\n",
        "        print(\"3. Exit\")\n",
        "        choice = input(\"\\nEnter Your Choice: \")\n",
        "\n",
        "        if choice == \"1\":\n",
        "            encipher()\n",
        "        elif choice == \"2\":\n",
        "            decipher()\n",
        "        elif choice == \"3\":\n",
        "            break\n",
        "        else:\n",
        "            print(\"Please Enter a Valid Option.\")\n",
        "\n",
        "\n",
        "if __name__ == \"__main__\":\n",
        "    main()\n"
      ]
    }
  ]
}